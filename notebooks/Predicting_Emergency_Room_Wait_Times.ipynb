{
  "nbformat": 4,
  "nbformat_minor": 0,
  "metadata": {
    "colab": {
      "provenance": []
    },
    "kernelspec": {
      "name": "python3",
      "display_name": "Python 3"
    },
    "language_info": {
      "name": "python"
    }
  },
  "cells": [
    {
      "cell_type": "markdown",
      "source": [
        "\n",
        "\n",
        "**Importing Necessary Libraries**\n"
      ],
      "metadata": {
        "id": "281lBll4ceOu"
      }
    },
    {
      "cell_type": "code",
      "source": [
        "import pandas as pd\n",
        "import numpy as np\n",
        "import matplotlib.pyplot as plt\n",
        "import seaborn as sns\n",
        "from sklearn.model_selection import train_test_split\n",
        "from sklearn.ensemble import RandomForestRegressor\n",
        "from sklearn.metrics import mean_squared_error, mean_absolute_error, r2_score"
      ],
      "metadata": {
        "id": "PRT71IfAckO_"
      },
      "execution_count": null,
      "outputs": []
    },
    {
      "cell_type": "markdown",
      "source": [
        "**Loading the Data**"
      ],
      "metadata": {
        "id": "5W1Jba5Gc8kc"
      }
    },
    {
      "cell_type": "code",
      "source": [
        "df = pd.read_csv('ER Wait Time Dataset.csv')"
      ],
      "metadata": {
        "id": "zOL58JBAc_jc"
      },
      "execution_count": null,
      "outputs": []
    },
    {
      "cell_type": "markdown",
      "source": [
        "**Initial Data Inspection**"
      ],
      "metadata": {
        "id": "N2DgqCwUdQ4F"
      }
    },
    {
      "cell_type": "code",
      "source": [
        "print(\"---Data Info ---\")\n",
        "df.info()\n",
        "\n",
        "print(\"\\n--- First 5 Rows ---\")\n",
        "print(df.head())\n",
        "\n",
        "print(\"\\n--- Column Names ---\")\n",
        "print(df.columns.tolist())"
      ],
      "metadata": {
        "id": "9sUoYOzJdSYw"
      },
      "execution_count": null,
      "outputs": []
    },
    {
      "cell_type": "markdown",
      "source": [
        "**Data Cleaning and Preparation**"
      ],
      "metadata": {
        "id": "uEnNG0-UehVk"
      }
    },
    {
      "cell_type": "code",
      "source": [
        "\n",
        "df['Visit Date'] = pd.to_datetime(df['Visit Date'])\n",
        "\n",
        "median_wait_time = df['Total Wait Time (min)'].median()\n",
        "df['Total Wait Time (min)'].fillna(median_wait_time, inplace=True)\n",
        "\n",
        "\n",
        "median_ratio = df['Nurse-to-Patient Ratio'].median()\n",
        "df['Nurse-to-Patient Ratio'].fillna(median_ratio, inplace=True)\n",
        "\n",
        "\n",
        "print(\"--- Missing Values After Cleaning ---\")\n",
        "print(df.isnull().sum())"
      ],
      "metadata": {
        "id": "D_ODZSJ8ej6f"
      },
      "execution_count": null,
      "outputs": []
    },
    {
      "cell_type": "markdown",
      "source": [
        "**Feature Engineering**"
      ],
      "metadata": {
        "id": "Y95DTL8jfz2m"
      }
    },
    {
      "cell_type": "code",
      "source": [
        "\n",
        "df['DayOfWeek'] = df['Visit Date'].dt.day_name()\n",
        "\n",
        "\n",
        "df['Month'] = df['Visit Date'].dt.month\n",
        "\n",
        "\n",
        "print(\"--- Data with New Features ---\")\n",
        "print(df.head())"
      ],
      "metadata": {
        "id": "uCF5vN-ogcpk"
      },
      "execution_count": null,
      "outputs": []
    },
    {
      "cell_type": "markdown",
      "source": [
        "**Exploratory Data Analysis (EDA)**"
      ],
      "metadata": {
        "id": "yby1udoFhFOO"
      }
    },
    {
      "cell_type": "code",
      "source": [
        "\n",
        "sns.set(style=\"whitegrid\")\n",
        "\n",
        "\n",
        "plt.figure(figsize=(12, 6))\n",
        "sns.histplot(df['Total Wait Time (min)'], kde=True, bins=40)\n",
        "plt.title('Distribution of Total ER Wait Time')\n",
        "plt.xlabel('Total Wait Time (minutes)')\n",
        "plt.ylabel('Frequency')\n",
        "plt.show()\n",
        "\n",
        "\n",
        "plt.figure(figsize=(12, 6))\n",
        "sns.boxplot(x='DayOfWeek', y='Total Wait Time (min)', data=df, order=['Monday', 'Tuesday', 'Wednesday', 'Thursday', 'Friday', 'Saturday', 'Sunday'])\n",
        "plt.title('ER Wait Time by Day of the Week')\n",
        "plt.xlabel('Day of the Week')\n",
        "plt.ylabel('Total Wait Time (minutes)')\n",
        "plt.show()\n",
        "\n",
        "\n",
        "numeric_df = df.select_dtypes(include=np.number)\n",
        "correlation_matrix = numeric_df.corr()\n",
        "\n",
        "plt.figure(figsize=(12, 10))\n",
        "sns.heatmap(correlation_matrix, annot=True, cmap='coolwarm', fmt=\".2f\")\n",
        "plt.title('Correlation Matrix of Numerical Features')\n",
        "plt.show()"
      ],
      "metadata": {
        "id": "TENg1h5ohIV8"
      },
      "execution_count": null,
      "outputs": []
    },
    {
      "cell_type": "markdown",
      "source": [
        "**Model Preparation**"
      ],
      "metadata": {
        "id": "3rQJDJ08nVhM"
      }
    },
    {
      "cell_type": "code",
      "source": [
        "\n",
        "features = [\n",
        "    'Hospital Name',\n",
        "    'Region',\n",
        "    'Season',\n",
        "    'Time of Day',\n",
        "    'Urgency Level',\n",
        "    'Specialist Availability',\n",
        "    'Facility Size (Beds)',\n",
        "    'Nurse-to-Patient Ratio',\n",
        "    'DayOfWeek',\n",
        "    'Month'\n",
        "]\n",
        "\n",
        "target = 'Total Wait Time (min)'\n",
        "\n",
        "X = df[features]\n",
        "y = df[target]\n",
        "\n",
        "\n",
        "categorical_features = [\n",
        "    'Hospital Name',\n",
        "    'Region',\n",
        "    'Season',\n",
        "    'Time of Day',\n",
        "    'Urgency Level',\n",
        "    'Specialist Availability',\n",
        "    'DayOfWeek'\n",
        "]\n",
        "\n",
        "X = pd.get_dummies(X, columns=categorical_features, drop_first=True)\n",
        "\n",
        "\n",
        "X_train, X_test, y_train, y_test = train_test_split(X, y, test_size=0.2, random_state=42)\n",
        "\n",
        "\n",
        "print(\"--- Data Preparation Complete with New Features ---\")\n",
        "print(\"Shape of your new training features (X_train):\", X_train.shape)"
      ],
      "metadata": {
        "id": "FQtlXWZ_nROK"
      },
      "execution_count": null,
      "outputs": []
    },
    {
      "cell_type": "markdown",
      "source": [
        "**Model Building and Training**"
      ],
      "metadata": {
        "id": "6xum3M80oc0p"
      }
    },
    {
      "cell_type": "code",
      "source": [
        "\n",
        "model = RandomForestRegressor(n_estimators=100, random_state=42, n_jobs=-1)\n",
        "\n",
        "\n",
        "model.fit(X_train, y_train)\n",
        "\n",
        "print(\"--- Model Training Complete ---\")\n",
        "print(\"The model has learned the patterns from the training data.\")"
      ],
      "metadata": {
        "id": "vnKA4P7nogzZ"
      },
      "execution_count": null,
      "outputs": []
    },
    {
      "cell_type": "markdown",
      "source": [
        "**Model Evaluation**"
      ],
      "metadata": {
        "id": "HGuBoLqXp4UM"
      }
    },
    {
      "cell_type": "code",
      "source": [
        "\n",
        "y_pred = model.predict(X_test)\n",
        "\n",
        "\n",
        "r2 = r2_score(y_test, y_pred)\n",
        "mae = mean_absolute_error(y_test, y_pred)\n",
        "rmse = np.sqrt(mean_squared_error(y_test, y_pred))\n",
        "\n",
        "\n",
        "print(\"--- Model Performance Evaluation ---\")\n",
        "print(f\"R-squared (R²): {r2:.3f}\")\n",
        "print(f\"Mean Absolute Error (MAE): {mae:.3f} minutes\")\n",
        "print(f\"Root Mean Squared Error (RMSE): {rmse:.3f} minutes\")"
      ],
      "metadata": {
        "id": "V-i_99T3p688"
      },
      "execution_count": null,
      "outputs": []
    },
    {
      "cell_type": "markdown",
      "source": [
        "**Feature Importance Analysis and Visualization**"
      ],
      "metadata": {
        "id": "AbfqTdrIqUEb"
      }
    },
    {
      "cell_type": "code",
      "source": [
        "\n",
        "importances = model.feature_importances_\n",
        "feature_names = X_train.columns\n",
        "\n",
        "\n",
        "feature_importance_df = pd.DataFrame({'feature': feature_names, 'importance': importances})\n",
        "\n",
        "\n",
        "feature_importance_df = feature_importance_df.sort_values(by='importance', ascending=False)\n",
        "\n",
        "\n",
        "plt.figure(figsize=(12, 8))\n",
        "sns.barplot(x='importance', y='feature', data=feature_importance_df, palette='viridis')\n",
        "plt.title('Key Drivers of ER Wait Time (Feature Importance)', fontsize=16)\n",
        "plt.xlabel('Importance Score', fontsize=12)\n",
        "plt.ylabel('Features', fontsize=12)\n",
        "plt.show()\n"
      ],
      "metadata": {
        "id": "4kB0f16-rDQo"
      },
      "execution_count": null,
      "outputs": []
    },
    {
      "cell_type": "markdown",
      "source": [
        "## **Trying the XGBoost, LightGBM**"
      ],
      "metadata": {
        "id": "qm8noMfrt0TQ"
      }
    },
    {
      "cell_type": "code",
      "source": [
        "pip install xgboost lightgbm"
      ],
      "metadata": {
        "id": "mr-FIx3XuADX"
      },
      "execution_count": null,
      "outputs": []
    },
    {
      "cell_type": "markdown",
      "source": [
        "# **Train and Evaluate with XGBoost**"
      ],
      "metadata": {
        "id": "Yw-6ZyLTt61E"
      }
    },
    {
      "cell_type": "code",
      "source": [
        "import xgboost as xgb\n",
        "\n",
        "\n",
        "xgb_model = xgb.XGBRegressor(n_estimators=1000,\n",
        "                             learning_rate=0.05,\n",
        "                             early_stopping_rounds=5,\n",
        "                             random_state=42)\n",
        "\n",
        "\n",
        "\n",
        "xgb_model.fit(X_train, y_train,\n",
        "              eval_set=[(X_test, y_test)],\n",
        "              verbose=False)\n",
        "\n",
        "\n",
        "\n",
        "y_pred_xgb = xgb_model.predict(X_test)\n",
        "\n",
        "\n",
        "r2_xgb = r2_score(y_test, y_pred_xgb)\n",
        "mae_xgb = mean_absolute_error(y_test, y_pred_xgb)\n",
        "rmse_xgb = np.sqrt(mean_squared_error(y_test, y_pred_xgb))\n",
        "\n",
        "\n",
        "print(\"--- XGBoost Model Performance ---\")\n",
        "print(f\"R-squared (R²): {r2_xgb:.3f}\")\n",
        "print(f\"Mean Absolute Error (MAE): {mae_xgb:.3f} minutes\")\n",
        "print(f\"Root Mean Squared Error (RMSE): {rmse_xgb:.3f} minutes\")"
      ],
      "metadata": {
        "id": "_sl9F3Pkt-BM"
      },
      "execution_count": null,
      "outputs": []
    },
    {
      "cell_type": "markdown",
      "source": [
        "# **Train and Evaluate with LightGBM**"
      ],
      "metadata": {
        "id": "9alkKB77uOj3"
      }
    },
    {
      "cell_type": "code",
      "source": [
        "import lightgbm as lgb\n",
        "\n",
        "\n",
        "lgb_model = lgb.LGBMRegressor(n_estimators=1000,\n",
        "                              learning_rate=0.05,\n",
        "                              random_state=42)\n",
        "\n",
        "\n",
        "lgb_model.fit(X_train, y_train,\n",
        "              eval_set=[(X_test, y_test)],\n",
        "              eval_metric='rmse',\n",
        "              callbacks=[lgb.early_stopping(5, verbose=False)])\n",
        "\n",
        "\n",
        "y_pred_lgb = lgb_model.predict(X_test)\n",
        "\n",
        "\n",
        "r2_lgb = r2_score(y_test, y_pred_lgb)\n",
        "mae_lgb = mean_absolute_error(y_test, y_pred_lgb)\n",
        "rmse_lgb = np.sqrt(mean_squared_error(y_test, y_pred_lgb))\n",
        "\n",
        "\n",
        "print(\"\\n--- LightGBM Model Performance ---\")\n",
        "print(f\"R-squared (R²): {r2_lgb:.3f}\")\n",
        "print(f\"Mean Absolute Error (MAE): {mae_lgb:.3f} minutes\")\n",
        "print(f\"Root Mean Squared Error (RMSE): {rmse_lgb:.3f} minutes\")"
      ],
      "metadata": {
        "id": "HXEFx2C4uRj1"
      },
      "execution_count": null,
      "outputs": []
    },
    {
      "cell_type": "markdown",
      "source": [
        "# **Hyperparameter Tuning with RandomizedSearchCV (LightGBM)**\n",
        "*Let's tune our best model so far, it's LightGBM. This code will automatically search for the best settings and then train a final optimized model*"
      ],
      "metadata": {
        "id": "mV3fK9A9AlQ2"
      }
    },
    {
      "cell_type": "code",
      "source": [
        "from sklearn.model_selection import RandomizedSearchCV\n",
        "import lightgbm as lgb\n",
        "import numpy as np\n",
        "\n",
        "\n",
        "param_grid = {\n",
        "    'n_estimators': [100, 200, 500, 1000],\n",
        "    'learning_rate': [0.01, 0.05, 0.1],\n",
        "    'num_leaves': [20, 31, 40, 50],\n",
        "    'max_depth': [-1, 10, 20],\n",
        "    'colsample_bytree': [0.6, 0.8, 1.0],\n",
        "    'subsample': [0.6, 0.8, 1.0],\n",
        "    'reg_alpha': [0, 0.1, 0.5],\n",
        "    'reg_lambda': [0, 0.1, 0.5]\n",
        "}\n",
        "\n",
        "\n",
        "lgb_base = lgb.LGBMRegressor(random_state=42)\n",
        "\n",
        "\n",
        "random_search = RandomizedSearchCV(estimator=lgb_base,\n",
        "                                   param_distributions=param_grid,\n",
        "                                   n_iter=100,\n",
        "                                   cv=5,\n",
        "                                   scoring='neg_mean_absolute_error',\n",
        "                                   n_jobs=-1,\n",
        "                                   random_state=42,\n",
        "                                   verbose=1)\n",
        "\n",
        "\n",
        "print(\"--- Starting Hyperparameter Tuning ---\")\n",
        "random_search.fit(X_train, y_train)\n",
        "print(\"--- Tuning Complete ---\")\n",
        "\n",
        "\n",
        "print(\"\\nBest Parameters Found:\")\n",
        "print(random_search.best_params_)\n",
        "\n",
        "\n",
        "best_score = -random_search.best_score_\n",
        "print(f\"\\nBest Cross-Validated MAE from Search: {best_score:.3f} minutes\")\n",
        "\n",
        "\n",
        "best_model = random_search.best_estimator_\n",
        "y_pred_best = best_model.predict(X_test)\n",
        "\n",
        "\n",
        "r2_best = r2_score(y_test, y_pred_best)\n",
        "mae_best = mean_absolute_error(y_test, y_pred_best)\n",
        "rmse_best = np.sqrt(mean_squared_error(y_test, y_pred_best))\n",
        "\n",
        "\n",
        "print(\"\\n--- Tuned Model Performance on Test Set ---\")\n",
        "print(f\"R-squared (R²): {r2_best:.3f}\")\n",
        "print(f\"Mean Absolute Error (MAE): {mae_best:.3f} minutes\")\n",
        "print(f\"Root Mean Squared Error (RMSE): {rmse_best:.3f} minutes\")"
      ],
      "metadata": {
        "id": "B0PZJJveHsJ9"
      },
      "execution_count": null,
      "outputs": []
    }
  ]
}